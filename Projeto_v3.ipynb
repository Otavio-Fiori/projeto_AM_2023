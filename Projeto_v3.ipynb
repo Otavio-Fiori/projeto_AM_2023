{
 "cells": [
  {
   "cell_type": "code",
   "execution_count": 1,
   "metadata": {},
   "outputs": [],
   "source": [
    "# importa os pacotes necessários\n",
    "import numpy as np\n",
    "from matplotlib import pyplot as plt\n",
    "from pandas.plotting import scatter_matrix\n",
    "import seaborn as sns\n",
    "from scipy import stats as ss\n",
    "import pandas as pd\n",
    "import plotly.express as px\n",
    "from matplotlib import pyplot as plt\n",
    "import seaborn as sns\n",
    "from sklearn.metrics import roc_auc_score\n",
    "from sklearn.metrics import roc_curve\n",
    "from sklearn.metrics import confusion_matrix\n",
    "from sklearn import tree\n",
    "import random\n",
    "from sklearn.model_selection import KFold\n",
    "from sklearn.model_selection import cross_val_score\n",
    "from sklearn.linear_model import LogisticRegression\n",
    "from sklearn.preprocessing import StandardScaler\n",
    "from sklearn.naive_bayes import GaussianNB\n",
    "from sklearn.tree import DecisionTreeClassifier\n",
    "from sklearn.model_selection import train_test_split\n",
    "from sklearn.model_selection import GridSearchCV\n",
    "from sklearn.metrics import f1_score, accuracy_score, recall_score, precision_score, classification_report"
   ]
  },
  {
   "cell_type": "code",
   "execution_count": 2,
   "metadata": {},
   "outputs": [
    {
     "data": {
      "text/html": [
       "<div>\n",
       "<style scoped>\n",
       "    .dataframe tbody tr th:only-of-type {\n",
       "        vertical-align: middle;\n",
       "    }\n",
       "\n",
       "    .dataframe tbody tr th {\n",
       "        vertical-align: top;\n",
       "    }\n",
       "\n",
       "    .dataframe thead th {\n",
       "        text-align: right;\n",
       "    }\n",
       "</style>\n",
       "<table border=\"1\" class=\"dataframe\">\n",
       "  <thead>\n",
       "    <tr style=\"text-align: right;\">\n",
       "      <th></th>\n",
       "      <th>CLIENTNUM</th>\n",
       "      <th>Attrition_Flag</th>\n",
       "      <th>Customer_Age</th>\n",
       "      <th>Gender</th>\n",
       "      <th>Dependent_count</th>\n",
       "      <th>Education_Level</th>\n",
       "      <th>Marital_Status</th>\n",
       "      <th>Income_Category</th>\n",
       "      <th>Card_Category</th>\n",
       "      <th>Months_on_book</th>\n",
       "      <th>...</th>\n",
       "      <th>Credit_Limit</th>\n",
       "      <th>Total_Revolving_Bal</th>\n",
       "      <th>Avg_Open_To_Buy</th>\n",
       "      <th>Total_Amt_Chng_Q4_Q1</th>\n",
       "      <th>Total_Trans_Amt</th>\n",
       "      <th>Total_Trans_Ct</th>\n",
       "      <th>Total_Ct_Chng_Q4_Q1</th>\n",
       "      <th>Avg_Utilization_Ratio</th>\n",
       "      <th>Naive_Bayes_Classifier_Attrition_Flag_Card_Category_Contacts_Count_12_mon_Dependent_count_Education_Level_Months_Inactive_12_mon_1</th>\n",
       "      <th>Naive_Bayes_Classifier_Attrition_Flag_Card_Category_Contacts_Count_12_mon_Dependent_count_Education_Level_Months_Inactive_12_mon_2</th>\n",
       "    </tr>\n",
       "  </thead>\n",
       "  <tbody>\n",
       "    <tr>\n",
       "      <th>0</th>\n",
       "      <td>768805383</td>\n",
       "      <td>Existing Customer</td>\n",
       "      <td>45</td>\n",
       "      <td>M</td>\n",
       "      <td>3</td>\n",
       "      <td>High School</td>\n",
       "      <td>Married</td>\n",
       "      <td>$60K - $80K</td>\n",
       "      <td>Blue</td>\n",
       "      <td>39</td>\n",
       "      <td>...</td>\n",
       "      <td>12691.0</td>\n",
       "      <td>777</td>\n",
       "      <td>11914.0</td>\n",
       "      <td>1.335</td>\n",
       "      <td>1144</td>\n",
       "      <td>42</td>\n",
       "      <td>1.625</td>\n",
       "      <td>0.061</td>\n",
       "      <td>0.000093</td>\n",
       "      <td>0.99991</td>\n",
       "    </tr>\n",
       "    <tr>\n",
       "      <th>1</th>\n",
       "      <td>818770008</td>\n",
       "      <td>Existing Customer</td>\n",
       "      <td>49</td>\n",
       "      <td>F</td>\n",
       "      <td>5</td>\n",
       "      <td>Graduate</td>\n",
       "      <td>Single</td>\n",
       "      <td>Less than $40K</td>\n",
       "      <td>Blue</td>\n",
       "      <td>44</td>\n",
       "      <td>...</td>\n",
       "      <td>8256.0</td>\n",
       "      <td>864</td>\n",
       "      <td>7392.0</td>\n",
       "      <td>1.541</td>\n",
       "      <td>1291</td>\n",
       "      <td>33</td>\n",
       "      <td>3.714</td>\n",
       "      <td>0.105</td>\n",
       "      <td>0.000057</td>\n",
       "      <td>0.99994</td>\n",
       "    </tr>\n",
       "    <tr>\n",
       "      <th>2</th>\n",
       "      <td>713982108</td>\n",
       "      <td>Existing Customer</td>\n",
       "      <td>51</td>\n",
       "      <td>M</td>\n",
       "      <td>3</td>\n",
       "      <td>Graduate</td>\n",
       "      <td>Married</td>\n",
       "      <td>$80K - $120K</td>\n",
       "      <td>Blue</td>\n",
       "      <td>36</td>\n",
       "      <td>...</td>\n",
       "      <td>3418.0</td>\n",
       "      <td>0</td>\n",
       "      <td>3418.0</td>\n",
       "      <td>2.594</td>\n",
       "      <td>1887</td>\n",
       "      <td>20</td>\n",
       "      <td>2.333</td>\n",
       "      <td>0.000</td>\n",
       "      <td>0.000021</td>\n",
       "      <td>0.99998</td>\n",
       "    </tr>\n",
       "    <tr>\n",
       "      <th>3</th>\n",
       "      <td>769911858</td>\n",
       "      <td>Existing Customer</td>\n",
       "      <td>40</td>\n",
       "      <td>F</td>\n",
       "      <td>4</td>\n",
       "      <td>High School</td>\n",
       "      <td>Unknown</td>\n",
       "      <td>Less than $40K</td>\n",
       "      <td>Blue</td>\n",
       "      <td>34</td>\n",
       "      <td>...</td>\n",
       "      <td>3313.0</td>\n",
       "      <td>2517</td>\n",
       "      <td>796.0</td>\n",
       "      <td>1.405</td>\n",
       "      <td>1171</td>\n",
       "      <td>20</td>\n",
       "      <td>2.333</td>\n",
       "      <td>0.760</td>\n",
       "      <td>0.000134</td>\n",
       "      <td>0.99987</td>\n",
       "    </tr>\n",
       "    <tr>\n",
       "      <th>4</th>\n",
       "      <td>709106358</td>\n",
       "      <td>Existing Customer</td>\n",
       "      <td>40</td>\n",
       "      <td>M</td>\n",
       "      <td>3</td>\n",
       "      <td>Uneducated</td>\n",
       "      <td>Married</td>\n",
       "      <td>$60K - $80K</td>\n",
       "      <td>Blue</td>\n",
       "      <td>21</td>\n",
       "      <td>...</td>\n",
       "      <td>4716.0</td>\n",
       "      <td>0</td>\n",
       "      <td>4716.0</td>\n",
       "      <td>2.175</td>\n",
       "      <td>816</td>\n",
       "      <td>28</td>\n",
       "      <td>2.500</td>\n",
       "      <td>0.000</td>\n",
       "      <td>0.000022</td>\n",
       "      <td>0.99998</td>\n",
       "    </tr>\n",
       "  </tbody>\n",
       "</table>\n",
       "<p>5 rows × 23 columns</p>\n",
       "</div>"
      ],
      "text/plain": [
       "   CLIENTNUM     Attrition_Flag  Customer_Age Gender  Dependent_count  \\\n",
       "0  768805383  Existing Customer            45      M                3   \n",
       "1  818770008  Existing Customer            49      F                5   \n",
       "2  713982108  Existing Customer            51      M                3   \n",
       "3  769911858  Existing Customer            40      F                4   \n",
       "4  709106358  Existing Customer            40      M                3   \n",
       "\n",
       "  Education_Level Marital_Status Income_Category Card_Category  \\\n",
       "0     High School        Married     $60K - $80K          Blue   \n",
       "1        Graduate         Single  Less than $40K          Blue   \n",
       "2        Graduate        Married    $80K - $120K          Blue   \n",
       "3     High School        Unknown  Less than $40K          Blue   \n",
       "4      Uneducated        Married     $60K - $80K          Blue   \n",
       "\n",
       "   Months_on_book  ...  Credit_Limit  Total_Revolving_Bal  Avg_Open_To_Buy  \\\n",
       "0              39  ...       12691.0                  777          11914.0   \n",
       "1              44  ...        8256.0                  864           7392.0   \n",
       "2              36  ...        3418.0                    0           3418.0   \n",
       "3              34  ...        3313.0                 2517            796.0   \n",
       "4              21  ...        4716.0                    0           4716.0   \n",
       "\n",
       "   Total_Amt_Chng_Q4_Q1  Total_Trans_Amt  Total_Trans_Ct  Total_Ct_Chng_Q4_Q1  \\\n",
       "0                 1.335             1144              42                1.625   \n",
       "1                 1.541             1291              33                3.714   \n",
       "2                 2.594             1887              20                2.333   \n",
       "3                 1.405             1171              20                2.333   \n",
       "4                 2.175              816              28                2.500   \n",
       "\n",
       "   Avg_Utilization_Ratio  \\\n",
       "0                  0.061   \n",
       "1                  0.105   \n",
       "2                  0.000   \n",
       "3                  0.760   \n",
       "4                  0.000   \n",
       "\n",
       "   Naive_Bayes_Classifier_Attrition_Flag_Card_Category_Contacts_Count_12_mon_Dependent_count_Education_Level_Months_Inactive_12_mon_1  \\\n",
       "0                                           0.000093                                                                                    \n",
       "1                                           0.000057                                                                                    \n",
       "2                                           0.000021                                                                                    \n",
       "3                                           0.000134                                                                                    \n",
       "4                                           0.000022                                                                                    \n",
       "\n",
       "   Naive_Bayes_Classifier_Attrition_Flag_Card_Category_Contacts_Count_12_mon_Dependent_count_Education_Level_Months_Inactive_12_mon_2  \n",
       "0                                            0.99991                                                                                   \n",
       "1                                            0.99994                                                                                   \n",
       "2                                            0.99998                                                                                   \n",
       "3                                            0.99987                                                                                   \n",
       "4                                            0.99998                                                                                   \n",
       "\n",
       "[5 rows x 23 columns]"
      ]
     },
     "execution_count": 2,
     "metadata": {},
     "output_type": "execute_result"
    }
   ],
   "source": [
    "# carrega os dados\n",
    "df = pd.read_csv('dados/BankChurners.csv',low_memory=False)\n",
    "\n",
    "# head dos dados\n",
    "df.head()"
   ]
  },
  {
   "cell_type": "code",
   "execution_count": 3,
   "metadata": {},
   "outputs": [
    {
     "data": {
      "text/plain": [
       "(10127, 23)"
      ]
     },
     "execution_count": 3,
     "metadata": {},
     "output_type": "execute_result"
    }
   ],
   "source": [
    "# tamanho do dataset\n",
    "df.shape"
   ]
  },
  {
   "cell_type": "code",
   "execution_count": 4,
   "metadata": {},
   "outputs": [
    {
     "data": {
      "text/plain": [
       "<AxesSubplot:ylabel='Attrition_Flag'>"
      ]
     },
     "execution_count": 4,
     "metadata": {},
     "output_type": "execute_result"
    },
    {
     "data": {
      "image/png": "[encoded data removed]",
      "text/plain": [
       "<Figure size 1000x800 with 1 Axes>"
      ]
     },
     "metadata": {},
     "output_type": "display_data"
    }
   ],
   "source": [
    "# distribuição da variável target\n",
    "df.Attrition_Flag.value_counts().plot.pie(autopct='%1.1f%%',figsize=(10,8))"
   ]
  },
  {
   "cell_type": "code",
   "execution_count": 5,
   "metadata": {},
   "outputs": [
    {
     "data": {
      "text/html": [
       "<div>\n",
       "<style scoped>\n",
       "    .dataframe tbody tr th:only-of-type {\n",
       "        vertical-align: middle;\n",
       "    }\n",
       "\n",
       "    .dataframe tbody tr th {\n",
       "        vertical-align: top;\n",
       "    }\n",
       "\n",
       "    .dataframe thead th {\n",
       "        text-align: right;\n",
       "    }\n",
       "</style>\n",
       "<table border=\"1\" class=\"dataframe\">\n",
       "  <thead>\n",
       "    <tr style=\"text-align: right;\">\n",
       "      <th></th>\n",
       "      <th>CLIENTNUM</th>\n",
       "      <th>Attrition_Flag</th>\n",
       "      <th>Customer_Age</th>\n",
       "      <th>Gender</th>\n",
       "      <th>Dependent_count</th>\n",
       "      <th>Education_Level</th>\n",
       "      <th>Marital_Status</th>\n",
       "      <th>Income_Category</th>\n",
       "      <th>Card_Category</th>\n",
       "      <th>Months_on_book</th>\n",
       "      <th>...</th>\n",
       "      <th>Contacts_Count_12_mon</th>\n",
       "      <th>Credit_Limit</th>\n",
       "      <th>Total_Revolving_Bal</th>\n",
       "      <th>Avg_Open_To_Buy</th>\n",
       "      <th>Total_Amt_Chng_Q4_Q1</th>\n",
       "      <th>Total_Trans_Amt</th>\n",
       "      <th>Total_Trans_Ct</th>\n",
       "      <th>Total_Ct_Chng_Q4_Q1</th>\n",
       "      <th>Avg_Utilization_Ratio</th>\n",
       "      <th>Churn</th>\n",
       "    </tr>\n",
       "  </thead>\n",
       "  <tbody>\n",
       "    <tr>\n",
       "      <th>0</th>\n",
       "      <td>768805383</td>\n",
       "      <td>Existing Customer</td>\n",
       "      <td>45</td>\n",
       "      <td>M</td>\n",
       "      <td>3</td>\n",
       "      <td>High School</td>\n",
       "      <td>Married</td>\n",
       "      <td>$60K - $80K</td>\n",
       "      <td>Blue</td>\n",
       "      <td>39</td>\n",
       "      <td>...</td>\n",
       "      <td>3</td>\n",
       "      <td>12691.0</td>\n",
       "      <td>777</td>\n",
       "      <td>11914.0</td>\n",
       "      <td>1.335</td>\n",
       "      <td>1144</td>\n",
       "      <td>42</td>\n",
       "      <td>1.625</td>\n",
       "      <td>0.061</td>\n",
       "      <td>0</td>\n",
       "    </tr>\n",
       "    <tr>\n",
       "      <th>1</th>\n",
       "      <td>818770008</td>\n",
       "      <td>Existing Customer</td>\n",
       "      <td>49</td>\n",
       "      <td>F</td>\n",
       "      <td>5</td>\n",
       "      <td>Graduate</td>\n",
       "      <td>Single</td>\n",
       "      <td>Less than $40K</td>\n",
       "      <td>Blue</td>\n",
       "      <td>44</td>\n",
       "      <td>...</td>\n",
       "      <td>2</td>\n",
       "      <td>8256.0</td>\n",
       "      <td>864</td>\n",
       "      <td>7392.0</td>\n",
       "      <td>1.541</td>\n",
       "      <td>1291</td>\n",
       "      <td>33</td>\n",
       "      <td>3.714</td>\n",
       "      <td>0.105</td>\n",
       "      <td>0</td>\n",
       "    </tr>\n",
       "    <tr>\n",
       "      <th>2</th>\n",
       "      <td>713982108</td>\n",
       "      <td>Existing Customer</td>\n",
       "      <td>51</td>\n",
       "      <td>M</td>\n",
       "      <td>3</td>\n",
       "      <td>Graduate</td>\n",
       "      <td>Married</td>\n",
       "      <td>$80K - $120K</td>\n",
       "      <td>Blue</td>\n",
       "      <td>36</td>\n",
       "      <td>...</td>\n",
       "      <td>0</td>\n",
       "      <td>3418.0</td>\n",
       "      <td>0</td>\n",
       "      <td>3418.0</td>\n",
       "      <td>2.594</td>\n",
       "      <td>1887</td>\n",
       "      <td>20</td>\n",
       "      <td>2.333</td>\n",
       "      <td>0.000</td>\n",
       "      <td>0</td>\n",
       "    </tr>\n",
       "    <tr>\n",
       "      <th>3</th>\n",
       "      <td>769911858</td>\n",
       "      <td>Existing Customer</td>\n",
       "      <td>40</td>\n",
       "      <td>F</td>\n",
       "      <td>4</td>\n",
       "      <td>High School</td>\n",
       "      <td>Unknown</td>\n",
       "      <td>Less than $40K</td>\n",
       "      <td>Blue</td>\n",
       "      <td>34</td>\n",
       "      <td>...</td>\n",
       "      <td>1</td>\n",
       "      <td>3313.0</td>\n",
       "      <td>2517</td>\n",
       "      <td>796.0</td>\n",
       "      <td>1.405</td>\n",
       "      <td>1171</td>\n",
       "      <td>20</td>\n",
       "      <td>2.333</td>\n",
       "      <td>0.760</td>\n",
       "      <td>0</td>\n",
       "    </tr>\n",
       "    <tr>\n",
       "      <th>4</th>\n",
       "      <td>709106358</td>\n",
       "      <td>Existing Customer</td>\n",
       "      <td>40</td>\n",
       "      <td>M</td>\n",
       "      <td>3</td>\n",
       "      <td>Uneducated</td>\n",
       "      <td>Married</td>\n",
       "      <td>$60K - $80K</td>\n",
       "      <td>Blue</td>\n",
       "      <td>21</td>\n",
       "      <td>...</td>\n",
       "      <td>0</td>\n",
       "      <td>4716.0</td>\n",
       "      <td>0</td>\n",
       "      <td>4716.0</td>\n",
       "      <td>2.175</td>\n",
       "      <td>816</td>\n",
       "      <td>28</td>\n",
       "      <td>2.500</td>\n",
       "      <td>0.000</td>\n",
       "      <td>0</td>\n",
       "    </tr>\n",
       "  </tbody>\n",
       "</table>\n",
       "<p>5 rows × 22 columns</p>\n",
       "</div>"
      ],
      "text/plain": [
       "   CLIENTNUM     Attrition_Flag  Customer_Age Gender  Dependent_count  \\\n",
       "0  768805383  Existing Customer            45      M                3   \n",
       "1  818770008  Existing Customer            49      F                5   \n",
       "2  713982108  Existing Customer            51      M                3   \n",
       "3  769911858  Existing Customer            40      F                4   \n",
       "4  709106358  Existing Customer            40      M                3   \n",
       "\n",
       "  Education_Level Marital_Status Income_Category Card_Category  \\\n",
       "0     High School        Married     $60K - $80K          Blue   \n",
       "1        Graduate         Single  Less than $40K          Blue   \n",
       "2        Graduate        Married    $80K - $120K          Blue   \n",
       "3     High School        Unknown  Less than $40K          Blue   \n",
       "4      Uneducated        Married     $60K - $80K          Blue   \n",
       "\n",
       "   Months_on_book  ...  Contacts_Count_12_mon  Credit_Limit  \\\n",
       "0              39  ...                      3       12691.0   \n",
       "1              44  ...                      2        8256.0   \n",
       "2              36  ...                      0        3418.0   \n",
       "3              34  ...                      1        3313.0   \n",
       "4              21  ...                      0        4716.0   \n",
       "\n",
       "   Total_Revolving_Bal  Avg_Open_To_Buy  Total_Amt_Chng_Q4_Q1  \\\n",
       "0                  777          11914.0                 1.335   \n",
       "1                  864           7392.0                 1.541   \n",
       "2                    0           3418.0                 2.594   \n",
       "3                 2517            796.0                 1.405   \n",
       "4                    0           4716.0                 2.175   \n",
       "\n",
       "   Total_Trans_Amt  Total_Trans_Ct  Total_Ct_Chng_Q4_Q1  \\\n",
       "0             1144              42                1.625   \n",
       "1             1291              33                3.714   \n",
       "2             1887              20                2.333   \n",
       "3             1171              20                2.333   \n",
       "4              816              28                2.500   \n",
       "\n",
       "   Avg_Utilization_Ratio  Churn  \n",
       "0                  0.061      0  \n",
       "1                  0.105      0  \n",
       "2                  0.000      0  \n",
       "3                  0.760      0  \n",
       "4                  0.000      0  \n",
       "\n",
       "[5 rows x 22 columns]"
      ]
     },
     "execution_count": 5,
     "metadata": {},
     "output_type": "execute_result"
    }
   ],
   "source": [
    "# remove as colunas que não vamos utilizar\n",
    "df = df[df.columns[:-2]]\n",
    "\n",
    "# cria coluna com flag de churn\n",
    "df['Churn'] = df['Attrition_Flag'].apply(lambda x: 1 if x == 'Attrited Customer' else 0)\n",
    "\n",
    "df.head()"
   ]
  },
  {
   "attachments": {},
   "cell_type": "markdown",
   "metadata": {},
   "source": [
    "### 0. Definição de Funções"
   ]
  },
  {
   "cell_type": "code",
   "execution_count": 6,
   "metadata": {},
   "outputs": [],
   "source": [
    "def plot_cm(y_true, y_pred, label, x_size=5, y_size=5, savepath=None):\n",
    "    \"\"\"\n",
    "    Plots a confusion matrix\n",
    "\n",
    "    Params:\n",
    "        - y_true: the true value of the target\n",
    "        - y_pred: the predicted value of the data\n",
    "        - label: the name of the model\n",
    "        - - x_size: x size of the plot\n",
    "        - y_size: y size of the plot\n",
    "        - savepath: the path to save the image\n",
    "    \"\"\"\n",
    "    cm = confusion_matrix(y_true, y_pred, labels=np.unique(y_true))\n",
    "    cm_sum = np.sum(cm, axis=1, keepdims=True)\n",
    "    cm_perc = cm / cm_sum.astype(float) * 100\n",
    "    annot = np.empty_like(cm).astype(str)\n",
    "    nrows, ncols = cm.shape\n",
    "    for i in range(nrows):\n",
    "        for j in range(ncols):\n",
    "            c = cm[i, j]\n",
    "            p = cm_perc[i, j]\n",
    "            if i == j:\n",
    "                s = cm_sum[i]\n",
    "                annot[i, j] = \"%.1f%%\\n%d/%d\" % (p, c, s)\n",
    "            elif c == 0:\n",
    "                annot[i, j] = \"\"\n",
    "            else:\n",
    "                annot[i, j] = \"%.1f%%\\n%d\" % (p, c)\n",
    "    cm = pd.DataFrame(cm, index=np.unique(y_true), columns=np.unique(y_true))\n",
    "    cm.index.name = \"Actual\"\n",
    "    cm.columns.name = \"Predicted\"\n",
    "    fig, ax = plt.subplots(figsize=(x_size, y_size))\n",
    "    plt.title(\"Matriz de Confusão - \" + label, fontsize=15)\n",
    "    sns.heatmap(cm, cmap=\"Blues\", annot=annot, fmt=\"\", ax=ax)\n",
    "    # savesfig\n",
    "    if savepath is not None:\n",
    "        plt.savefig(savepath + \".png\")\n",
    "    plt.show()\n",
    "    return cm\n",
    "\n",
    "\n",
    "def class_def(multi, y_proba):\n",
    "    \"Helper function of the plot_roc_curve function\"\n",
    "    if multi is False:\n",
    "        return [0]\n",
    "    else:\n",
    "        return range(len(y_proba[0]))\n",
    "\n",
    "\n",
    "# função para plotar a curva ROC\n",
    "def plot_roc_curve(\n",
    "    y_true, y_proba, label, x_size=5, y_size=5, savepath=None, strategy=\"ovo\"\n",
    "):\n",
    "\n",
    "    \"\"\"\n",
    "    Plots the roc auc curve.\n",
    "\n",
    "    Params:\n",
    "        - y_true: the true value of the target\n",
    "        - y_proba: the predicted probability value of the data\n",
    "        - label: the name of the model\n",
    "        - - x_size: x size of the plot\n",
    "        - y_size: y size of the plot\n",
    "        - savepath: the path to save the image\n",
    "    \"\"\"\n",
    "\n",
    "    # checks if it is multiclass\n",
    "    if pd.Series(y_true).nunique() > 2:\n",
    "        multi = True\n",
    "    else:\n",
    "        multi = False\n",
    "\n",
    "    # creates no skill probas\n",
    "    ns_probs = [0 for _ in range(len(y_true))]\n",
    "    ns_true = [random.randint(0, 1) for _ in range(len(y_true))]\n",
    "    ns_auc = roc_auc_score(ns_true, ns_probs)\n",
    "    ns_fpr, ns_tpr, _ = roc_curve(ns_true, ns_probs)\n",
    "\n",
    "    # keeps only the positive value if not multiclass\n",
    "    if multi is False:\n",
    "        try:\n",
    "            y_proba = y_proba[:, 1]\n",
    "        except Exception:\n",
    "            y_proba = y_proba\n",
    "\n",
    "    # calculates model ROC AUC SCORE\n",
    "    if multi is True:\n",
    "        model_auc = roc_auc_score(\n",
    "            y_true, y_proba, multi_class=strategy, average=\"weighted\"\n",
    "        )\n",
    "    else:\n",
    "        model_auc = roc_auc_score(y_true, y_proba)\n",
    "\n",
    "    fpr = {}\n",
    "    tpr = {}\n",
    "    thresh = {}\n",
    "    n_class = class_def(multi, y_proba)\n",
    "    if multi is True:\n",
    "        for i in n_class:\n",
    "            fpr[i], tpr[i], thresh[i] = roc_curve(\n",
    "                y_true,\n",
    "                y_proba[:, i],\n",
    "                pos_label=i\n",
    "                )\n",
    "    else:\n",
    "        for i in n_class:\n",
    "            fpr[i], tpr[i], thresh[i] = roc_curve(y_true, y_proba)\n",
    "\n",
    "    # summarize scores\n",
    "    print(\"No Skill: ROC AUC=%.3f\" % (ns_auc))\n",
    "    print(label + \": ROC AUC=%.3f\" % (model_auc))\n",
    "\n",
    "    # plots the ROC Curve\n",
    "    fig, ax = plt.subplots(figsize=(x_size, y_size))\n",
    "\n",
    "    # define the colors\n",
    "    colors_ls = [\"b\", \"g\", \"r\", \"c\", \"m\", \"y\", \"k\", \"w\"]\n",
    "    colors = []\n",
    "    cont = 0\n",
    "    while len(colors) < len(n_class):\n",
    "        if cont == len(colors_ls):\n",
    "            cont = 0\n",
    "        colors.append(colors_ls[cont])\n",
    "        cont += 1\n",
    "\n",
    "    # creates plots\n",
    "    for i in n_class:\n",
    "        plt.plot(\n",
    "            fpr[i],\n",
    "            tpr[i],\n",
    "            linestyle=\"-\",\n",
    "            color=colors[i],\n",
    "            label=f\"Class {i+1}\"\n",
    "            )\n",
    "    plt.plot(ns_fpr, ns_tpr, linestyle=\"--\", label=\"No Skill\")\n",
    "\n",
    "    # axis labels\n",
    "    plt.xlabel(\"False Positive Rate\")\n",
    "    plt.ylabel(\"True Positive Rate\")\n",
    "    # plot title\n",
    "    plt.title(f\"ROC AUC Curve - {label}\", fontsize=15)\n",
    "    # show legend\n",
    "    plt.legend(loc=\"best\")\n",
    "    # savesfig\n",
    "    if savepath is not None:\n",
    "        plt.savefig(savepath + \".png\")\n",
    "    # show the plot\n",
    "    plt.show()\n",
    "\n",
    "\n",
    "def tree_plot(modelo, X, x_size=5, y_size=5, savepath=None):\n",
    "    \"\"\"\n",
    "    Plots the tree for tree based models.\n",
    "\n",
    "    Params:\n",
    "        - model: a sklearn trained model\n",
    "        - X: the input data\n",
    "        - x_size: x size of the plot\n",
    "        - y_size: y size of the plot\n",
    "        - savepath: the path to save the image\n",
    "    \"\"\"\n",
    "    # tamanho do plot\n",
    "    plt.figure(figsize=(x_size, y_size))\n",
    "\n",
    "    # árvore criada\n",
    "    tree.plot_tree(\n",
    "        decision_tree=modelo,  # modelo criado\n",
    "        feature_names=X.columns,  # lista de variáveis\n",
    "        label=\"all\",  # mostra os dados em todos os nós\n",
    "        filled=True,  # pinta os nós com maior volumetria\n",
    "        rounded=True,  # plota cada nó com pontas arredondadas\n",
    "        fontsize=10,  # define o tamanho da fonte\n",
    "    )\n",
    "\n",
    "    # savesfig\n",
    "    if savepath is not None:\n",
    "        plt.savefig(savepath + \".png\")\n",
    "\n",
    "def clasifiers_test(\n",
    "            X, Y, modelos, num_folds, metrica, x_size=5, y_size=5, savepath=None):\n",
    "        \"\"\"\n",
    "        This function tests multiple clasifiers with cross validation\n",
    "        and prints their scores.\n",
    "\n",
    "        Params:\n",
    "            - X: the input data\n",
    "            - Y: the target data\n",
    "            - num_folds: the number of folds to use\n",
    "                in cross validation\n",
    "            - x_size: x size of the plot\n",
    "            - y_size: y size of the plot\n",
    "            - savepath: the path to save the image\n",
    "        \"\"\"\n",
    "        # Avaliando cada modelo em um loop\n",
    "        resultados = []\n",
    "\n",
    "        nomes = []\n",
    "\n",
    "        print(f\"MODELO\\t|\\t  MEDIA  \\t|\\tDESVIO\")\n",
    "        for nome, modelo in modelos:\n",
    "            kfold = KFold(n_splits=num_folds)\n",
    "            cv_results = cross_val_score(\n",
    "                modelo,\n",
    "                X,\n",
    "                Y,\n",
    "                cv=kfold,\n",
    "                scoring=metrica\n",
    "                )\n",
    "            resultados.append(cv_results)\n",
    "            nomes.append(nome)\n",
    "            msg = \"%s\\t|\\t%f\\t|\\t%f\" % (\n",
    "                nome,\n",
    "                cv_results.mean(),\n",
    "                cv_results.std()\n",
    "                )\n",
    "            print(msg)\n",
    "\n",
    "        # Boxplot para comparar os algoritmos\n",
    "        fig = plt.figure(figsize=(x_size, y_size))\n",
    "        fig.suptitle(\"Comparação de Algoritmos de Classificação\")\n",
    "        ax = fig.add_subplot(111)\n",
    "        plt.boxplot(resultados)\n",
    "        ax.set_xticklabels(nomes)\n",
    "        # savesfig\n",
    "        if savepath is not None:\n",
    "            plt.savefig(savepath + \".png\")\n",
    "        plt.show()\n",
    "        return pd.DataFrame(\n",
    "            resultados,\n",
    "            columns=[f\"fold_{i}\" for i in range(num_folds)],\n",
    "            index=nomes\n",
    "        )"
   ]
  },
  {
   "attachments": {},
   "cell_type": "markdown",
   "metadata": {},
   "source": [
    "### 1. Definição de Variáveis"
   ]
  },
  {
   "cell_type": "code",
   "execution_count": 7,
   "metadata": {},
   "outputs": [
    {
     "data": {
      "text/plain": [
       "CLIENTNUM                     int64\n",
       "Attrition_Flag               object\n",
       "Customer_Age                  int64\n",
       "Gender                       object\n",
       "Dependent_count               int64\n",
       "Education_Level              object\n",
       "Marital_Status               object\n",
       "Income_Category              object\n",
       "Card_Category                object\n",
       "Months_on_book                int64\n",
       "Total_Relationship_Count      int64\n",
       "Months_Inactive_12_mon        int64\n",
       "Contacts_Count_12_mon         int64\n",
       "Credit_Limit                float64\n",
       "Total_Revolving_Bal           int64\n",
       "Avg_Open_To_Buy             float64\n",
       "Total_Amt_Chng_Q4_Q1        float64\n",
       "Total_Trans_Amt               int64\n",
       "Total_Trans_Ct                int64\n",
       "Total_Ct_Chng_Q4_Q1         float64\n",
       "Avg_Utilization_Ratio       float64\n",
       "Churn                         int64\n",
       "dtype: object"
      ]
     },
     "execution_count": 7,
     "metadata": {},
     "output_type": "execute_result"
    }
   ],
   "source": [
    "# tipos dos dados\n",
    "df.dtypes"
   ]
  },
  {
   "cell_type": "code",
   "execution_count": 8,
   "metadata": {},
   "outputs": [],
   "source": [
    "# variáveis contínuas\n",
    "continuas = [\n",
    "    'Customer_Age',\n",
    "    'Dependent_count',\n",
    "    'Months_on_book',\n",
    "    'Total_Relationship_Count',\n",
    "    'Months_Inactive_12_mon',\n",
    "    'Contacts_Count_12_mon',\n",
    "    'Credit_Limit',\n",
    "    'Total_Revolving_Bal',\n",
    "    'Avg_Open_To_Buy',\n",
    "    'Total_Amt_Chng_Q4_Q1',\n",
    "    'Total_Trans_Amt',\n",
    "    'Total_Trans_Ct',\n",
    "    'Total_Ct_Chng_Q4_Q1',\n",
    "    'Avg_Utilization_Ratio'\n",
    "]\n",
    "\n",
    "# variáveis categóricas\n",
    "categoricas = [\n",
    "    'Gender',\n",
    "    'Education_Level',\n",
    "    'Marital_Status',\n",
    "    'Income_Category',\n",
    "    'Card_Category'\n",
    "]\n",
    "\n",
    "# resposta\n",
    "resposta = ['Churn']"
   ]
  },
  {
   "attachments": {},
   "cell_type": "markdown",
   "metadata": {},
   "source": [
    "### 2. Análise Exploratória"
   ]
  },
  {
   "attachments": {},
   "cell_type": "markdown",
   "metadata": {},
   "source": [
    "#### 2.1 Variáveis Contínuas"
   ]
  },
  {
   "cell_type": "code",
   "execution_count": 9,
   "metadata": {},
   "outputs": [
    {
     "data": {
      "text/html": [
       "<div>\n",
       "<style scoped>\n",
       "    .dataframe tbody tr th:only-of-type {\n",
       "        vertical-align: middle;\n",
       "    }\n",
       "\n",
       "    .dataframe tbody tr th {\n",
       "        vertical-align: top;\n",
       "    }\n",
       "\n",
       "    .dataframe thead th {\n",
       "        text-align: right;\n",
       "    }\n",
       "</style>\n",
       "<table border=\"1\" class=\"dataframe\">\n",
       "  <thead>\n",
       "    <tr style=\"text-align: right;\">\n",
       "      <th></th>\n",
       "      <th>Customer_Age</th>\n",
       "      <th>Dependent_count</th>\n",
       "      <th>Months_on_book</th>\n",
       "      <th>Total_Relationship_Count</th>\n",
       "      <th>Months_Inactive_12_mon</th>\n",
       "      <th>Contacts_Count_12_mon</th>\n",
       "      <th>Credit_Limit</th>\n",
       "      <th>Total_Revolving_Bal</th>\n",
       "      <th>Avg_Open_To_Buy</th>\n",
       "      <th>Total_Amt_Chng_Q4_Q1</th>\n",
       "      <th>Total_Trans_Amt</th>\n",
       "      <th>Total_Trans_Ct</th>\n",
       "      <th>Total_Ct_Chng_Q4_Q1</th>\n",
       "      <th>Avg_Utilization_Ratio</th>\n",
       "    </tr>\n",
       "  </thead>\n",
       "  <tbody>\n",
       "    <tr>\n",
       "      <th>count</th>\n",
       "      <td>10127.000000</td>\n",
       "      <td>10127.000000</td>\n",
       "      <td>10127.000000</td>\n",
       "      <td>10127.000000</td>\n",
       "      <td>10127.000000</td>\n",
       "      <td>10127.000000</td>\n",
       "      <td>10127.000000</td>\n",
       "      <td>10127.000000</td>\n",
       "      <td>10127.000000</td>\n",
       "      <td>10127.000000</td>\n",
       "      <td>10127.000000</td>\n",
       "      <td>10127.000000</td>\n",
       "      <td>10127.000000</td>\n",
       "      <td>10127.000000</td>\n",
       "    </tr>\n",
       "    <tr>\n",
       "      <th>mean</th>\n",
       "      <td>46.325960</td>\n",
       "      <td>2.346203</td>\n",
       "      <td>35.928409</td>\n",
       "      <td>3.812580</td>\n",
       "      <td>2.341167</td>\n",
       "      <td>2.455317</td>\n",
       "      <td>8631.953698</td>\n",
       "      <td>1162.814061</td>\n",
       "      <td>7469.139637</td>\n",
       "      <td>0.759941</td>\n",
       "      <td>4404.086304</td>\n",
       "      <td>64.858695</td>\n",
       "      <td>0.712222</td>\n",
       "      <td>0.274894</td>\n",
       "    </tr>\n",
       "    <tr>\n",
       "      <th>std</th>\n",
       "      <td>8.016814</td>\n",
       "      <td>1.298908</td>\n",
       "      <td>7.986416</td>\n",
       "      <td>1.554408</td>\n",
       "      <td>1.010622</td>\n",
       "      <td>1.106225</td>\n",
       "      <td>9088.776650</td>\n",
       "      <td>814.987335</td>\n",
       "      <td>9090.685324</td>\n",
       "      <td>0.219207</td>\n",
       "      <td>3397.129254</td>\n",
       "      <td>23.472570</td>\n",
       "      <td>0.238086</td>\n",
       "      <td>0.275691</td>\n",
       "    </tr>\n",
       "    <tr>\n",
       "      <th>min</th>\n",
       "      <td>26.000000</td>\n",
       "      <td>0.000000</td>\n",
       "      <td>13.000000</td>\n",
       "      <td>1.000000</td>\n",
       "      <td>0.000000</td>\n",
       "      <td>0.000000</td>\n",
       "      <td>1438.300000</td>\n",
       "      <td>0.000000</td>\n",
       "      <td>3.000000</td>\n",
       "      <td>0.000000</td>\n",
       "      <td>510.000000</td>\n",
       "      <td>10.000000</td>\n",
       "      <td>0.000000</td>\n",
       "      <td>0.000000</td>\n",
       "    </tr>\n",
       "    <tr>\n",
       "      <th>25%</th>\n",
       "      <td>41.000000</td>\n",
       "      <td>1.000000</td>\n",
       "      <td>31.000000</td>\n",
       "      <td>3.000000</td>\n",
       "      <td>2.000000</td>\n",
       "      <td>2.000000</td>\n",
       "      <td>2555.000000</td>\n",
       "      <td>359.000000</td>\n",
       "      <td>1324.500000</td>\n",
       "      <td>0.631000</td>\n",
       "      <td>2155.500000</td>\n",
       "      <td>45.000000</td>\n",
       "      <td>0.582000</td>\n",
       "      <td>0.023000</td>\n",
       "    </tr>\n",
       "    <tr>\n",
       "      <th>50%</th>\n",
       "      <td>46.000000</td>\n",
       "      <td>2.000000</td>\n",
       "      <td>36.000000</td>\n",
       "      <td>4.000000</td>\n",
       "      <td>2.000000</td>\n",
       "      <td>2.000000</td>\n",
       "      <td>4549.000000</td>\n",
       "      <td>1276.000000</td>\n",
       "      <td>3474.000000</td>\n",
       "      <td>0.736000</td>\n",
       "      <td>3899.000000</td>\n",
       "      <td>67.000000</td>\n",
       "      <td>0.702000</td>\n",
       "      <td>0.176000</td>\n",
       "    </tr>\n",
       "    <tr>\n",
       "      <th>75%</th>\n",
       "      <td>52.000000</td>\n",
       "      <td>3.000000</td>\n",
       "      <td>40.000000</td>\n",
       "      <td>5.000000</td>\n",
       "      <td>3.000000</td>\n",
       "      <td>3.000000</td>\n",
       "      <td>11067.500000</td>\n",
       "      <td>1784.000000</td>\n",
       "      <td>9859.000000</td>\n",
       "      <td>0.859000</td>\n",
       "      <td>4741.000000</td>\n",
       "      <td>81.000000</td>\n",
       "      <td>0.818000</td>\n",
       "      <td>0.503000</td>\n",
       "    </tr>\n",
       "    <tr>\n",
       "      <th>max</th>\n",
       "      <td>73.000000</td>\n",
       "      <td>5.000000</td>\n",
       "      <td>56.000000</td>\n",
       "      <td>6.000000</td>\n",
       "      <td>6.000000</td>\n",
       "      <td>6.000000</td>\n",
       "      <td>34516.000000</td>\n",
       "      <td>2517.000000</td>\n",
       "      <td>34516.000000</td>\n",
       "      <td>3.397000</td>\n",
       "      <td>18484.000000</td>\n",
       "      <td>139.000000</td>\n",
       "      <td>3.714000</td>\n",
       "      <td>0.999000</td>\n",
       "    </tr>\n",
       "  </tbody>\n",
       "</table>\n",
       "</div>"
      ],
      "text/plain": [
       "       Customer_Age  Dependent_count  Months_on_book  \\\n",
       "count  10127.000000     10127.000000    10127.000000   \n",
       "mean      46.325960         2.346203       35.928409   \n",
       "std        8.016814         1.298908        7.986416   \n",
       "min       26.000000         0.000000       13.000000   \n",
       "25%       41.000000         1.000000       31.000000   \n",
       "50%       46.000000         2.000000       36.000000   \n",
       "75%       52.000000         3.000000       40.000000   \n",
       "max       73.000000         5.000000       56.000000   \n",
       "\n",
       "       Total_Relationship_Count  Months_Inactive_12_mon  \\\n",
       "count              10127.000000            10127.000000   \n",
       "mean                   3.812580                2.341167   \n",
       "std                    1.554408                1.010622   \n",
       "min                    1.000000                0.000000   \n",
       "25%                    3.000000                2.000000   \n",
       "50%                    4.000000                2.000000   \n",
       "75%                    5.000000                3.000000   \n",
       "max                    6.000000                6.000000   \n",
       "\n",
       "       Contacts_Count_12_mon  Credit_Limit  Total_Revolving_Bal  \\\n",
       "count           10127.000000  10127.000000         10127.000000   \n",
       "mean                2.455317   8631.953698          1162.814061   \n",
       "std                 1.106225   9088.776650           814.987335   \n",
       "min                 0.000000   1438.300000             0.000000   \n",
       "25%                 2.000000   2555.000000           359.000000   \n",
       "50%                 2.000000   4549.000000          1276.000000   \n",
       "75%                 3.000000  11067.500000          1784.000000   \n",
       "max                 6.000000  34516.000000          2517.000000   \n",
       "\n",
       "       Avg_Open_To_Buy  Total_Amt_Chng_Q4_Q1  Total_Trans_Amt  Total_Trans_Ct  \\\n",
       "count     10127.000000          10127.000000     10127.000000    10127.000000   \n",
       "mean       7469.139637              0.759941      4404.086304       64.858695   \n",
       "std        9090.685324              0.219207      3397.129254       23.472570   \n",
       "min           3.000000              0.000000       510.000000       10.000000   \n",
       "25%        1324.500000              0.631000      2155.500000       45.000000   \n",
       "50%        3474.000000              0.736000      3899.000000       67.000000   \n",
       "75%        9859.000000              0.859000      4741.000000       81.000000   \n",
       "max       34516.000000              3.397000     18484.000000      139.000000   \n",
       "\n",
       "       Total_Ct_Chng_Q4_Q1  Avg_Utilization_Ratio  \n",
       "count         10127.000000           10127.000000  \n",
       "mean              0.712222               0.274894  \n",
       "std               0.238086               0.275691  \n",
       "min               0.000000               0.000000  \n",
       "25%               0.582000               0.023000  \n",
       "50%               0.702000               0.176000  \n",
       "75%               0.818000               0.503000  \n",
       "max               3.714000               0.999000  "
      ]
     },
     "execution_count": 9,
     "metadata": {},
     "output_type": "execute_result"
    }
   ],
   "source": [
    "df[continuas].describe()"
   ]
  },
  {
   "cell_type": "code",
   "execution_count": 10,
   "metadata": {},
   "outputs": [
    {
     "data": {
      "text/plain": [
       "array([<AxesSubplot:ylabel='Density'>, <AxesSubplot:ylabel='Density'>,\n",
       "       <AxesSubplot:ylabel='Density'>, <AxesSubplot:ylabel='Density'>,\n",
       "       <AxesSubplot:ylabel='Density'>, <AxesSubplot:ylabel='Density'>,\n",
       "       <AxesSubplot:ylabel='Density'>, <AxesSubplot:ylabel='Density'>,\n",
       "       <AxesSubplot:ylabel='Density'>, <AxesSubplot:ylabel='Density'>,\n",
       "       <AxesSubplot:ylabel='Density'>, <AxesSubplot:ylabel='Density'>,\n",
       "       <AxesSubplot:ylabel='Density'>, <AxesSubplot:ylabel='Density'>],\n",
       "      dtype=object)"
      ]
     },
     "execution_count": 10,
     "metadata": {},
     "output_type": "execute_result"
    },
    {
     "data": {
      "image/png": "[encoded data removed]",
      "text/plain": [
       "<Figure size 1000x1000 with 14 Axes>"
      ]
     },
     "metadata": {},
     "output_type": "display_data"
    }
   ],
   "source": [
    "# faz um plot de densidade das variávels contínuas\n",
    "df[continuas].plot(\n",
    "    kind=\"density\",\n",
    "    subplots=True,\n",
    "    sharex=False,\n",
    "    figsize=(10, 10)\n",
    "    )"
   ]
  },
  {
   "attachments": {},
   "cell_type": "markdown",
   "metadata": {},
   "source": [
    "Podemos ver que as variáveis contínuas não seguem uma distribuição normal e por isso devemos tomar alguns cuidados na hora de testar uma Regressão Logística por exemplo por ser uma técnica que tem como premissa que as variáveis explicativas seguem uma distribuição normal, o correto seria padronizar os dados antes do treinamento para que a média seja 0 e o desvio padrão 1."
   ]
  },
  {
   "cell_type": "code",
   "execution_count": 11,
   "metadata": {},
   "outputs": [
    {
     "data": {
      "text/plain": [
       "Customer_Age                   AxesSubplot(0.125,0.11;0.0466867x0.77)\n",
       "Dependent_count             AxesSubplot(0.181024,0.11;0.0466867x0.77)\n",
       "Months_on_book              AxesSubplot(0.237048,0.11;0.0466867x0.77)\n",
       "Total_Relationship_Count    AxesSubplot(0.293072,0.11;0.0466867x0.77)\n",
       "Months_Inactive_12_mon      AxesSubplot(0.349096,0.11;0.0466867x0.77)\n",
       "Contacts_Count_12_mon        AxesSubplot(0.40512,0.11;0.0466867x0.77)\n",
       "Credit_Limit                AxesSubplot(0.461145,0.11;0.0466867x0.77)\n",
       "Total_Revolving_Bal         AxesSubplot(0.517169,0.11;0.0466867x0.77)\n",
       "Avg_Open_To_Buy             AxesSubplot(0.573193,0.11;0.0466867x0.77)\n",
       "Total_Amt_Chng_Q4_Q1        AxesSubplot(0.629217,0.11;0.0466867x0.77)\n",
       "Total_Trans_Amt             AxesSubplot(0.685241,0.11;0.0466867x0.77)\n",
       "Total_Trans_Ct              AxesSubplot(0.741265,0.11;0.0466867x0.77)\n",
       "Total_Ct_Chng_Q4_Q1         AxesSubplot(0.797289,0.11;0.0466867x0.77)\n",
       "Avg_Utilization_Ratio       AxesSubplot(0.853313,0.11;0.0466867x0.77)\n",
       "dtype: object"
      ]
     },
     "execution_count": 11,
     "metadata": {},
     "output_type": "execute_result"
    },
    {
     "data": {
      "image/png": "[encoded data removed]",
      "text/plain": [
       "<Figure size 3000x1000 with 14 Axes>"
      ]
     },
     "metadata": {},
     "output_type": "display_data"
    }
   ],
   "source": [
    "df[continuas].plot(\n",
    "        kind=\"box\",\n",
    "        subplots=True,\n",
    "        sharex=False,\n",
    "        figsize=(30, 10)\n",
    "    )"
   ]
  },
  {
   "attachments": {},
   "cell_type": "markdown",
   "metadata": {},
   "source": [
    "Podemos agora verificar que algumas das nossas variáveis têm muitos outliers, por isso, é necessário realizar uma padronização antes de utilizarmos um algoritmo que calcula distâncias como o KNN, por exemplo."
   ]
  },
  {
   "cell_type": "code",
   "execution_count": 12,
   "metadata": {},
   "outputs": [
    {
     "data": {
      "text/html": [
       "<div>\n",
       "<style scoped>\n",
       "    .dataframe tbody tr th:only-of-type {\n",
       "        vertical-align: middle;\n",
       "    }\n",
       "\n",
       "    .dataframe tbody tr th {\n",
       "        vertical-align: top;\n",
       "    }\n",
       "\n",
       "    .dataframe thead th {\n",
       "        text-align: right;\n",
       "    }\n",
       "</style>\n",
       "<table border=\"1\" class=\"dataframe\">\n",
       "  <thead>\n",
       "    <tr style=\"text-align: right;\">\n",
       "      <th></th>\n",
       "      <th>Customer_Age</th>\n",
       "      <th>Dependent_count</th>\n",
       "      <th>Months_on_book</th>\n",
       "      <th>Total_Relationship_Count</th>\n",
       "      <th>Months_Inactive_12_mon</th>\n",
       "      <th>Contacts_Count_12_mon</th>\n",
       "      <th>Credit_Limit</th>\n",
       "      <th>Total_Revolving_Bal</th>\n",
       "      <th>Avg_Open_To_Buy</th>\n",
       "      <th>Total_Amt_Chng_Q4_Q1</th>\n",
       "      <th>Total_Trans_Amt</th>\n",
       "      <th>Total_Trans_Ct</th>\n",
       "      <th>Total_Ct_Chng_Q4_Q1</th>\n",
       "      <th>Avg_Utilization_Ratio</th>\n",
       "      <th>Churn</th>\n",
       "    </tr>\n",
       "  </thead>\n",
       "  <tbody>\n",
       "    <tr>\n",
       "      <th>0</th>\n",
       "      <td>45</td>\n",
       "      <td>3</td>\n",
       "      <td>39</td>\n",
       "      <td>5</td>\n",
       "      <td>1</td>\n",
       "      <td>3</td>\n",
       "      <td>12691.0</td>\n",
       "      <td>777</td>\n",
       "      <td>11914.0</td>\n",
       "      <td>1.335</td>\n",
       "      <td>1144</td>\n",
       "      <td>42</td>\n",
       "      <td>1.625</td>\n",
       "      <td>0.061</td>\n",
       "      <td>0</td>\n",
       "    </tr>\n",
       "    <tr>\n",
       "      <th>1</th>\n",
       "      <td>49</td>\n",
       "      <td>5</td>\n",
       "      <td>44</td>\n",
       "      <td>6</td>\n",
       "      <td>1</td>\n",
       "      <td>2</td>\n",
       "      <td>8256.0</td>\n",
       "      <td>864</td>\n",
       "      <td>7392.0</td>\n",
       "      <td>1.541</td>\n",
       "      <td>1291</td>\n",
       "      <td>33</td>\n",
       "      <td>3.714</td>\n",
       "      <td>0.105</td>\n",
       "      <td>0</td>\n",
       "    </tr>\n",
       "    <tr>\n",
       "      <th>2</th>\n",
       "      <td>51</td>\n",
       "      <td>3</td>\n",
       "      <td>36</td>\n",
       "      <td>4</td>\n",
       "      <td>1</td>\n",
       "      <td>0</td>\n",
       "      <td>3418.0</td>\n",
       "      <td>0</td>\n",
       "      <td>3418.0</td>\n",
       "      <td>2.594</td>\n",
       "      <td>1887</td>\n",
       "      <td>20</td>\n",
       "      <td>2.333</td>\n",
       "      <td>0.000</td>\n",
       "      <td>0</td>\n",
       "    </tr>\n",
       "    <tr>\n",
       "      <th>3</th>\n",
       "      <td>40</td>\n",
       "      <td>4</td>\n",
       "      <td>34</td>\n",
       "      <td>3</td>\n",
       "      <td>4</td>\n",
       "      <td>1</td>\n",
       "      <td>3313.0</td>\n",
       "      <td>2517</td>\n",
       "      <td>796.0</td>\n",
       "      <td>1.405</td>\n",
       "      <td>1171</td>\n",
       "      <td>20</td>\n",
       "      <td>2.333</td>\n",
       "      <td>0.760</td>\n",
       "      <td>0</td>\n",
       "    </tr>\n",
       "    <tr>\n",
       "      <th>4</th>\n",
       "      <td>40</td>\n",
       "      <td>3</td>\n",
       "      <td>21</td>\n",
       "      <td>5</td>\n",
       "      <td>1</td>\n",
       "      <td>0</td>\n",
       "      <td>4716.0</td>\n",
       "      <td>0</td>\n",
       "      <td>4716.0</td>\n",
       "      <td>2.175</td>\n",
       "      <td>816</td>\n",
       "      <td>28</td>\n",
       "      <td>2.500</td>\n",
       "      <td>0.000</td>\n",
       "      <td>0</td>\n",
       "    </tr>\n",
       "  </tbody>\n",
       "</table>\n",
       "</div>"
      ],
      "text/plain": [
       "   Customer_Age  Dependent_count  Months_on_book  Total_Relationship_Count  \\\n",
       "0            45                3              39                         5   \n",
       "1            49                5              44                         6   \n",
       "2            51                3              36                         4   \n",
       "3            40                4              34                         3   \n",
       "4            40                3              21                         5   \n",
       "\n",
       "   Months_Inactive_12_mon  Contacts_Count_12_mon  Credit_Limit  \\\n",
       "0                       1                      3       12691.0   \n",
       "1                       1                      2        8256.0   \n",
       "2                       1                      0        3418.0   \n",
       "3                       4                      1        3313.0   \n",
       "4                       1                      0        4716.0   \n",
       "\n",
       "   Total_Revolving_Bal  Avg_Open_To_Buy  Total_Amt_Chng_Q4_Q1  \\\n",
       "0                  777          11914.0                 1.335   \n",
       "1                  864           7392.0                 1.541   \n",
       "2                    0           3418.0                 2.594   \n",
       "3                 2517            796.0                 1.405   \n",
       "4                    0           4716.0                 2.175   \n",
       "\n",
       "   Total_Trans_Amt  Total_Trans_Ct  Total_Ct_Chng_Q4_Q1  \\\n",
       "0             1144              42                1.625   \n",
       "1             1291              33                3.714   \n",
       "2             1887              20                2.333   \n",
       "3             1171              20                2.333   \n",
       "4              816              28                2.500   \n",
       "\n",
       "   Avg_Utilization_Ratio  Churn  \n",
       "0                  0.061      0  \n",
       "1                  0.105      0  \n",
       "2                  0.000      0  \n",
       "3                  0.760      0  \n",
       "4                  0.000      0  "
      ]
     },
     "execution_count": 12,
     "metadata": {},
     "output_type": "execute_result"
    }
   ],
   "source": [
    "df[continuas + resposta].head()"
   ]
  },
  {
   "cell_type": "code",
   "execution_count": 13,
   "metadata": {},
   "outputs": [
    {
     "ename": "NameError",
     "evalue": "name 'correlations' is not defined",
     "output_type": "error",
     "traceback": [
      "\u001b[1;31m---------------------------------------------------------------------------\u001b[0m",
      "\u001b[1;31mNameError\u001b[0m                                 Traceback (most recent call last)",
      "\u001b[1;32m~\\AppData\\Local\\Temp\\ipykernel_13124\\4230056162.py\u001b[0m in \u001b[0;36m<module>\u001b[1;34m\u001b[0m\n\u001b[1;32m----> 1\u001b[1;33m \u001b[0mcorrelations\u001b[0m\u001b[1;33m\u001b[0m\u001b[1;33m\u001b[0m\u001b[0m\n\u001b[0m",
      "\u001b[1;31mNameError\u001b[0m: name 'correlations' is not defined"
     ]
    }
   ],
   "source": [
    "correlations"
   ]
  },
  {
   "cell_type": "code",
   "execution_count": null,
   "metadata": {},
   "outputs": [],
   "source": [
    "# cria matriz de correlação\n",
    "correlations = df[continuas + resposta].corr()\n",
    "\n",
    "# cria figura\n",
    "fig = plt.figure(figsize=(20, 20))\n",
    "\n",
    "# cria a máscara\n",
    "mask = np.zeros_like(correlations, dtype=bool)\n",
    "mask[np.triu_indices_from(mask)] = True\n",
    "\n",
    "# cria eixos\n",
    "with sns.axes_style(\"white\"):\n",
    "    sns.heatmap(\n",
    "        correlations,\n",
    "        mask=mask,\n",
    "        vmin=-1,\n",
    "        vmax=1,\n",
    "        square=True,\n",
    "        annot=True,\n",
    "        fmt=\".2f\",\n",
    "        linewidths=0.5,\n",
    "        cmap=sns.color_palette(\"Spectral\"),\n",
    "    )"
   ]
  },
  {
   "attachments": {},
   "cell_type": "markdown",
   "metadata": {},
   "source": [
    "Podemos ver pelo gráfico acima que algumas variáveis tem uma correlação muito alta entre elas, como por exemplo as variáveis Credit_Limit e Avg_Open_To_Buy que tem uma correlação perfeita e igual a 1."
   ]
  },
  {
   "attachments": {},
   "cell_type": "markdown",
   "metadata": {},
   "source": [
    "#### 2.2 Variáveis Categóricas"
   ]
  },
  {
   "cell_type": "code",
   "execution_count": null,
   "metadata": {},
   "outputs": [],
   "source": [
    "# gráfico de distribuição das variáveis categoricas\n",
    "for col in categoricas:\n",
    "    df.groupby([col, 'Churn']).size().groupby(level=0).apply(lambda x: 100 * x / x.sum()).unstack().plot(\n",
    "        kind='bar',\n",
    "        stacked=True,\n",
    "        figsize=(5,5),\n",
    "        title=col\n",
    "    )"
   ]
  },
  {
   "attachments": {},
   "cell_type": "markdown",
   "metadata": {},
   "source": [
    "Podemos perceber que a Categoria do Cartão de Crédito, a Categoria de Renda e o Nível Educacional são as variáveis que mais distorcem a distribuição de churn."
   ]
  },
  {
   "attachments": {},
   "cell_type": "markdown",
   "metadata": {},
   "source": [
    "### 3. Preparação dos Dados"
   ]
  },
  {
   "attachments": {},
   "cell_type": "markdown",
   "metadata": {},
   "source": [
    "#### 3.1 Modelagem com DataPrep"
   ]
  },
  {
   "cell_type": "code",
   "execution_count": null,
   "metadata": {},
   "outputs": [],
   "source": [
    "# cria uam cópia do df para o pré-processamento\n",
    "df_pre = df.copy()"
   ]
  },
  {
   "cell_type": "code",
   "execution_count": null,
   "metadata": {},
   "outputs": [],
   "source": [
    "# cria a correlação\n",
    "correlacao = df[continuas + resposta].corr()\n",
    "\n",
    "# lista de pares de variáveis correlacionadas\n",
    "pares = []\n",
    "\n",
    "# loop para encontrar as variáveis correlacionadas\n",
    "for index,row in correlacao.iterrows():\n",
    "    for col in correlacao.columns:\n",
    "        # se o valor absoluto for maior que 0.7 e não for a mesma variável appenda o par de variáveis\n",
    "        if index != col and index != resposta[0] and col != resposta[0] and abs(correlacao.loc[index,col]) > 0.7:\n",
    "            pares.append((index,col))\n",
    "\n",
    "# lista de variáveis a serem excluídas\n",
    "excluir = []\n",
    "\n",
    "# loop para encontrar as variáveis a serem excluídas\n",
    "for col1,col2 in pares:\n",
    "    # se o valor absoluto da correlação da variável com a resposta for maior que o \n",
    "    # valor absoluto da correlação da outra variável com a resposta\n",
    "    # então appenda a variável com menor correlação\n",
    "    if abs(correlacao.loc[col1,'Churn']) >= abs(correlacao.loc[col2,'Churn']):\n",
    "        excluir.append(col2)\n",
    "    else:\n",
    "        excluir.append(col1)\n",
    "print(f'Variáveis para excluir por alta correlação: {excluir}')"
   ]
  },
  {
   "cell_type": "code",
   "execution_count": null,
   "metadata": {},
   "outputs": [],
   "source": [
    "# definição do skew maximo\n",
    "skew_max = 0.5\n",
    "\n",
    "# calculo do skew da variáveis contínuas\n",
    "continuas_finais = [col for col in continuas if col not in excluir]\n",
    "skew = df_pre[continuas_finais].skew()\n",
    "\n",
    "# cria lista com variáveis que precisam de transformação\n",
    "skew = skew[abs(skew) > skew_max]\n",
    "skew = skew.index.tolist()\n",
    "print(skew)"
   ]
  },
  {
   "cell_type": "code",
   "execution_count": null,
   "metadata": {},
   "outputs": [],
   "source": [
    "# agora vamos normalizar as variáveis para que tenham média 0 e desvio padrão 1\n",
    "scaler = StandardScaler()\n",
    "df_pre[skew] = scaler.fit_transform(df_pre[skew])"
   ]
  },
  {
   "attachments": {},
   "cell_type": "markdown",
   "metadata": {},
   "source": [
    "### 4. Modelagem"
   ]
  },
  {
   "attachments": {},
   "cell_type": "markdown",
   "metadata": {},
   "source": [
    "#### 4.1 Baseline"
   ]
  },
  {
   "cell_type": "code",
   "execution_count": null,
   "metadata": {},
   "outputs": [],
   "source": [
    "# separa variáveis preditoras e variável resposta\n",
    "X = df_pre[categoricas + continuas]\n",
    "Y = df_pre[\"Churn\"]\n",
    "\n",
    "# cria os dummies\n",
    "X = pd.get_dummies(X, drop_first=True)\n",
    "\n",
    "# separa os dados entre treino e teste\n",
    "X_train, X_test, Y_train, Y_test = train_test_split(X, Y, test_size=0.3, random_state=7)"
   ]
  },
  {
   "cell_type": "code",
   "execution_count": null,
   "metadata": {},
   "outputs": [],
   "source": [
    "# cria o modelo baseline de regressão logística\n",
    "modelo_rl = LogisticRegression(max_iter=5000)\n",
    "\n",
    "# treina o modelo\n",
    "modelo_rl.fit(X_train, Y_train)\n",
    "\n",
    "# faz as previsões com dados de teste\n",
    "Y_pred = modelo_rl.predict(X_test)\n",
    "Y_pred_proba = modelo_rl.predict_proba(X_test)[:, 1]\n",
    "\n",
    "# faz as previsões com dados de treino\n",
    "Y_pred_train = modelo_rl.predict(X_train)\n",
    "Y_pred_proba_train = modelo_rl.predict_proba(X_train)[:, 1]"
   ]
  },
  {
   "cell_type": "code",
   "execution_count": null,
   "metadata": {},
   "outputs": [],
   "source": [
    "# imprime o classification report\n",
    "print(classification_report(Y_test, Y_pred))"
   ]
  },
  {
   "cell_type": "code",
   "execution_count": null,
   "metadata": {},
   "outputs": [],
   "source": [
    "# mostra a importância das variáveis\n",
    "importancia = pd.DataFrame({\"Variavel\": X_train.columns, \"Importancia\": modelo_rl.coef_[0]})\n",
    "importancia.sort_values(\"Importancia\", ascending=False).plot.bar(x=\"Variavel\", y=\"Importancia\")"
   ]
  },
  {
   "cell_type": "code",
   "execution_count": null,
   "metadata": {},
   "outputs": [],
   "source": [
    "# plota a matriz de confusão de teste\n",
    "plot_cm(Y_test, Y_pred, 'Regressão Logística - Teste')"
   ]
  },
  {
   "cell_type": "code",
   "execution_count": null,
   "metadata": {},
   "outputs": [],
   "source": [
    "# plota a matriz de confusão de treino \n",
    "plot_cm(Y_train, Y_pred_train, 'Regressão Logística - Treino')"
   ]
  },
  {
   "cell_type": "code",
   "execution_count": null,
   "metadata": {},
   "outputs": [],
   "source": [
    "# plota a curva ROC de teste\n",
    "plot_roc_curve(Y_test, Y_pred_proba, 'Regressão Logística - Teste')"
   ]
  },
  {
   "cell_type": "code",
   "execution_count": null,
   "metadata": {},
   "outputs": [],
   "source": [
    "# plota a curva ROC de treino\n",
    "plot_roc_curve(Y_train, Y_pred_proba_train, 'Regressão Logística - Treino')"
   ]
  },
  {
   "cell_type": "code",
   "execution_count": null,
   "metadata": {},
   "outputs": [],
   "source": [
    "# plota um histograma com as probabilidades de churn\n",
    "df_result = pd.DataFrame({'Churn':Y_test, 'Churn_Prob':Y_pred_proba})\n",
    "sns.histplot(data=df_result,x = 'Churn_Prob',hue='Churn', bins=20, kde=True)"
   ]
  },
  {
   "cell_type": "code",
   "execution_count": null,
   "metadata": {},
   "outputs": [],
   "source": [
    "# plota um histograma com as probabilidades de churn\n",
    "df_result = pd.DataFrame({'Churn':Y_train, 'Churn_Prob':Y_pred_proba_train})\n",
    "sns.histplot(data=df_result,x = 'Churn_Prob',hue='Churn', bins=20, kde=True)"
   ]
  },
  {
   "cell_type": "code",
   "execution_count": null,
   "metadata": {},
   "outputs": [],
   "source": [
    "# cria o modelo baseline de regressão logística\n",
    "modelo_nb = GaussianNB()\n",
    "\n",
    "# treina o modelo\n",
    "modelo_nb.fit(X_train, Y_train)\n",
    "\n",
    "# faz as previsões com dados de teste\n",
    "Y_pred = modelo_nb.predict(X_test)\n",
    "Y_pred_proba = modelo_nb.predict_proba(X_test)[:, 1]\n",
    "\n",
    "# faz as previsões com dados de treino\n",
    "Y_pred_train = modelo_nb.predict(X_train)\n",
    "Y_pred_proba_train = modelo_nb.predict_proba(X_train)[:, 1]"
   ]
  },
  {
   "cell_type": "code",
   "execution_count": null,
   "metadata": {},
   "outputs": [],
   "source": [
    "# imprime o classification report\n",
    "print(classification_report(Y_test, Y_pred))"
   ]
  },
  {
   "cell_type": "code",
   "execution_count": null,
   "metadata": {},
   "outputs": [],
   "source": [
    "# plota a matriz de confusão de teste\n",
    "plot_cm(Y_test, Y_pred, 'Naive Bayes - Teste')"
   ]
  },
  {
   "cell_type": "code",
   "execution_count": null,
   "metadata": {},
   "outputs": [],
   "source": [
    "# plota a matriz de confusão de treino \n",
    "plot_cm(Y_train, Y_pred_train, 'Naive Bayes - Treino')"
   ]
  },
  {
   "cell_type": "code",
   "execution_count": null,
   "metadata": {},
   "outputs": [],
   "source": [
    "# plota a curva ROC de teste\n",
    "plot_roc_curve(Y_test, Y_pred_proba, 'Naive Bayes - Teste')"
   ]
  },
  {
   "cell_type": "code",
   "execution_count": null,
   "metadata": {},
   "outputs": [],
   "source": [
    "# plota a curva ROC de treino\n",
    "plot_roc_curve(Y_train, Y_pred_proba_train, 'Naive Bayes - Treino')"
   ]
  },
  {
   "cell_type": "code",
   "execution_count": null,
   "metadata": {},
   "outputs": [],
   "source": [
    "# plota um histograma com as probabilidades de churn\n",
    "df_result = pd.DataFrame({'Churn':Y_test, 'Churn_Prob':Y_pred_proba})\n",
    "sns.histplot(data=df_result,x = 'Churn_Prob',hue='Churn', bins=20, kde=True)"
   ]
  },
  {
   "cell_type": "code",
   "execution_count": null,
   "metadata": {},
   "outputs": [],
   "source": [
    "# plota um histograma com as probabilidades de churn\n",
    "df_result = pd.DataFrame({'Churn':Y_train, 'Churn_Prob':Y_pred_proba_train})\n",
    "sns.histplot(data=df_result,x = 'Churn_Prob',hue='Churn', bins=20, kde=True)"
   ]
  },
  {
   "cell_type": "code",
   "execution_count": null,
   "metadata": {},
   "outputs": [],
   "source": [
    "# cria o modelo baseline de regressão logística\n",
    "modelo_ad = DecisionTreeClassifier(\n",
    "    criterion='entropy',\n",
    "    max_depth=3,\n",
    "    random_state=7\n",
    ")\n",
    "\n",
    "# treina o modelo\n",
    "modelo_ad.fit(X_train, Y_train)\n",
    "\n",
    "# faz as previsões com dados de teste\n",
    "Y_pred = modelo_ad.predict(X_test)\n",
    "Y_pred_proba = modelo_ad.predict_proba(X_test)[:, 1]\n",
    "\n",
    "# faz as previsões com dados de treino\n",
    "Y_pred_train = modelo_ad.predict(X_train)\n",
    "Y_pred_proba_train = modelo_ad.predict_proba(X_train)[:, 1]"
   ]
  },
  {
   "cell_type": "code",
   "execution_count": null,
   "metadata": {},
   "outputs": [],
   "source": [
    "# imprime o classification report\n",
    "print(classification_report(Y_test, Y_pred))"
   ]
  },
  {
   "cell_type": "code",
   "execution_count": null,
   "metadata": {},
   "outputs": [],
   "source": [
    "# mostra a importância das variáveis\n",
    "importancia = pd.DataFrame({\"Variavel\": X_train.columns, \"Importancia\": modelo_ad.feature_importances_})\n",
    "importancia.sort_values(\"Importancia\", ascending=False).plot.bar(x=\"Variavel\", y=\"Importancia\")"
   ]
  },
  {
   "cell_type": "code",
   "execution_count": null,
   "metadata": {},
   "outputs": [],
   "source": [
    "# plota a matriz de confusão de teste\n",
    "plot_cm(Y_test, Y_pred, 'Árvore de Decisão - Teste')"
   ]
  },
  {
   "cell_type": "code",
   "execution_count": null,
   "metadata": {},
   "outputs": [],
   "source": [
    "# plota a matriz de confusão de treino \n",
    "plot_cm(Y_train, Y_pred_train, 'Árvore de Decisão - Treino')"
   ]
  },
  {
   "cell_type": "code",
   "execution_count": null,
   "metadata": {},
   "outputs": [],
   "source": [
    "# plota a curva ROC de teste\n",
    "plot_roc_curve(Y_test, Y_pred_proba, 'Árvore de Decisão - Teste')"
   ]
  },
  {
   "cell_type": "code",
   "execution_count": null,
   "metadata": {},
   "outputs": [],
   "source": [
    "# plota a curva ROC de treino\n",
    "plot_roc_curve(Y_train, Y_pred_proba_train, 'Árvore de Decisão - Treino')"
   ]
  },
  {
   "cell_type": "code",
   "execution_count": null,
   "metadata": {},
   "outputs": [],
   "source": [
    "# plota um histograma com as probabilidades de churn\n",
    "df_result = pd.DataFrame({'Churn':Y_test, 'Churn_Prob':Y_pred_proba})\n",
    "sns.histplot(data=df_result,x = 'Churn_Prob',hue='Churn', bins=20, kde=True)"
   ]
  },
  {
   "cell_type": "code",
   "execution_count": null,
   "metadata": {},
   "outputs": [],
   "source": [
    "# plota um histograma com as probabilidades de churn\n",
    "df_result = pd.DataFrame({'Churn':Y_train, 'Churn_Prob':Y_pred_proba_train})\n",
    "sns.histplot(data=df_result,x = 'Churn_Prob',hue='Churn', bins=20, kde=True)"
   ]
  },
  {
   "attachments": {},
   "cell_type": "markdown",
   "metadata": {},
   "source": [
    "#### 4.2 Ajustando Hiperparâmetros"
   ]
  },
  {
   "attachments": {},
   "cell_type": "markdown",
   "metadata": {},
   "source": [
    "##### 4.2.1 Regressão Logística"
   ]
  },
  {
   "cell_type": "code",
   "execution_count": null,
   "metadata": {},
   "outputs": [],
   "source": [
    "# define os hiperparametros\n",
    "parametros = {\n",
    "        'penalty': ['l1','l2','elasticnet'],\n",
    "        'C': [1,0.5,0.1],\n",
    "        'max_iter': [5000, 10000, 20000],\n",
    "        }\n",
    "\n",
    "\n",
    "# define o modelo\n",
    "modelo_rl = LogisticRegression()\n",
    "\n",
    "# define a estratégia de busca utilizando cross validation\n",
    "grid_rl = GridSearchCV(modelo_rl, parametros, cv=5, scoring='roc_auc', n_jobs=-1)\n",
    "\n",
    "# treina o modelo\n",
    "grid_rl.fit(X_train, Y_train)"
   ]
  },
  {
   "cell_type": "code",
   "execution_count": null,
   "metadata": {},
   "outputs": [],
   "source": [
    "# imprime os melhores parâmetros\n",
    "print(f'Os melhores parâmetros encontrados foram: {grid_rl.best_params_}')\n",
    "\n",
    "# coloca os resultados em um dataframe\n",
    "resultados = pd.DataFrame(grid_rl.cv_results_)\n",
    "resultados = resultados.sort_values('mean_test_score', ascending=False)\n",
    "resultados.head()"
   ]
  },
  {
   "cell_type": "code",
   "execution_count": null,
   "metadata": {},
   "outputs": [],
   "source": [
    "# treina o modelo com os melhores parâmetros\n",
    "modelo_rl = LogisticRegression(\n",
    "    C=grid_rl.best_params_['C'],\n",
    "    max_iter=grid_rl.best_params_['max_iter'],\n",
    "    penalty=grid_rl.best_params_['penalty']\n",
    ")\n",
    "\n",
    "# treina o modelo\n",
    "modelo_rl.fit(X_train, Y_train)\n",
    "\n",
    "# faz as previsões com dados de teste\n",
    "Y_pred = modelo_rl.predict(X_test)\n",
    "Y_pred_proba = modelo_rl.predict_proba(X_test)[:, 1]\n",
    "\n",
    "# faz as previsões com dados de treino\n",
    "Y_pred_train = modelo_rl.predict(X_train)\n",
    "Y_pred_proba_train = modelo_rl.predict_proba(X_train)[:, 1]"
   ]
  },
  {
   "cell_type": "code",
   "execution_count": null,
   "metadata": {},
   "outputs": [],
   "source": [
    "# imprime o classification report\n",
    "print(classification_report(Y_test, Y_pred))"
   ]
  },
  {
   "cell_type": "code",
   "execution_count": null,
   "metadata": {},
   "outputs": [],
   "source": [
    "# mostra a importância das variáveis\n",
    "importancia = pd.DataFrame({\"Variavel\": X_train.columns, \"Importancia\": modelo_rl.coef_[0]})\n",
    "importancia.sort_values(\"Importancia\", ascending=False).plot.bar(x=\"Variavel\", y=\"Importancia\")"
   ]
  },
  {
   "cell_type": "code",
   "execution_count": null,
   "metadata": {},
   "outputs": [],
   "source": [
    "# plota a matriz de confusão de teste\n",
    "plot_cm(Y_test, Y_pred, 'Regressão Logística - Teste')"
   ]
  },
  {
   "cell_type": "code",
   "execution_count": null,
   "metadata": {},
   "outputs": [],
   "source": [
    "# plota a matriz de confusão de teste\n",
    "plot_cm(Y_train, Y_pred_train, 'Regressão Logística - Treino')"
   ]
  },
  {
   "cell_type": "code",
   "execution_count": null,
   "metadata": {},
   "outputs": [],
   "source": [
    "# plota a curva ROC de teste\n",
    "plot_roc_curve(Y_test, Y_pred_proba, 'Regressão Logística - Teste')"
   ]
  },
  {
   "cell_type": "code",
   "execution_count": null,
   "metadata": {},
   "outputs": [],
   "source": [
    "# plota a curva ROC de teste\n",
    "plot_roc_curve(Y_train, Y_pred_proba_train, 'Regressão Logística - Treino')"
   ]
  },
  {
   "cell_type": "code",
   "execution_count": null,
   "metadata": {},
   "outputs": [],
   "source": [
    "# plota um histograma com as probabilidades de churn\n",
    "df_result = pd.DataFrame({'Churn':Y_test, 'Churn_Prob':Y_pred_proba})\n",
    "sns.histplot(data=df_result,x = 'Churn_Prob',hue='Churn', bins=20, kde=True)"
   ]
  },
  {
   "cell_type": "code",
   "execution_count": null,
   "metadata": {},
   "outputs": [],
   "source": [
    "# plota um histograma com as probabilidades de churn\n",
    "df_result = pd.DataFrame({'Churn':Y_train, 'Churn_Prob':Y_pred_proba_train})\n",
    "sns.histplot(data=df_result,x = 'Churn_Prob',hue='Churn', bins=20, kde=True)"
   ]
  },
  {
   "attachments": {},
   "cell_type": "markdown",
   "metadata": {},
   "source": [
    "##### 4.2.2 Naive Bayes"
   ]
  },
  {
   "cell_type": "code",
   "execution_count": null,
   "metadata": {},
   "outputs": [],
   "source": [
    "# define os hiperparametros\n",
    "parametros = {\n",
    "    'var_smoothing': np.logspace(0,-9, num=100)\n",
    "}\n",
    "\n",
    "\n",
    "# define o modelo\n",
    "modelo_nb = GaussianNB()\n",
    "\n",
    "# define a estratégia de busca utilizando cross validation\n",
    "grid_nb = GridSearchCV(modelo_nb, parametros, cv=5, scoring='roc_auc', n_jobs=-1)\n",
    "\n",
    "# treina o modelo\n",
    "grid_nb.fit(X_train, Y_train)"
   ]
  },
  {
   "cell_type": "code",
   "execution_count": null,
   "metadata": {},
   "outputs": [],
   "source": [
    "# imprime os melhores parâmetros\n",
    "print(f'Os melhores parâmetros encontrados foram: {grid_nb.best_params_}')\n",
    "\n",
    "# coloca os resultados em um dataframe\n",
    "resultados = pd.DataFrame(grid_nb.cv_results_)\n",
    "resultados = resultados.sort_values('mean_test_score', ascending=False)\n",
    "resultados.head()"
   ]
  },
  {
   "cell_type": "code",
   "execution_count": null,
   "metadata": {},
   "outputs": [],
   "source": [
    "# treina o modelo com os melhores parâmetros\n",
    "modelo_nb = GaussianNB(\n",
    "    var_smoothing=grid_nb.best_params_['var_smoothing']\n",
    ")\n",
    "\n",
    "# treina o modelo\n",
    "modelo_nb.fit(X_train, Y_train)\n",
    "\n",
    "# faz as previsões com dados de teste\n",
    "Y_pred = modelo_nb.predict(X_test)\n",
    "Y_pred_proba = modelo_nb.predict_proba(X_test)[:, 1]\n",
    "\n",
    "# faz as previsões com dados de treino\n",
    "Y_pred_train = modelo_nb.predict(X_train)\n",
    "Y_pred_proba_train = modelo_nb.predict_proba(X_train)[:, 1]"
   ]
  },
  {
   "cell_type": "code",
   "execution_count": null,
   "metadata": {},
   "outputs": [],
   "source": [
    "# imprime o classification report\n",
    "print(classification_report(Y_test, Y_pred))"
   ]
  },
  {
   "cell_type": "code",
   "execution_count": null,
   "metadata": {},
   "outputs": [],
   "source": [
    "# plota a matriz de confusão de teste\n",
    "plot_cm(Y_test, Y_pred, 'Naive Bayes - Teste')"
   ]
  },
  {
   "cell_type": "code",
   "execution_count": null,
   "metadata": {},
   "outputs": [],
   "source": [
    "# plota a matriz de confusão de teste\n",
    "plot_cm(Y_train, Y_pred_train, 'Naive Bayes - Treino')"
   ]
  },
  {
   "cell_type": "code",
   "execution_count": null,
   "metadata": {},
   "outputs": [],
   "source": [
    "# plota a curva ROC de teste\n",
    "plot_roc_curve(Y_test, Y_pred_proba, 'Naive Bayes - Teste')"
   ]
  },
  {
   "cell_type": "code",
   "execution_count": null,
   "metadata": {},
   "outputs": [],
   "source": [
    "# plota a curva ROC de teste\n",
    "plot_roc_curve(Y_train, Y_pred_proba_train, 'Naive Bayes - Treino')"
   ]
  },
  {
   "cell_type": "code",
   "execution_count": null,
   "metadata": {},
   "outputs": [],
   "source": [
    "# plota um histograma com as probabilidades de churn\n",
    "df_result = pd.DataFrame({'Churn':Y_test, 'Churn_Prob':Y_pred_proba})\n",
    "sns.histplot(data=df_result,x = 'Churn_Prob',hue='Churn', bins=20, kde=True)"
   ]
  },
  {
   "cell_type": "code",
   "execution_count": null,
   "metadata": {},
   "outputs": [],
   "source": [
    "# plota um histograma com as probabilidades de churn\n",
    "df_result = pd.DataFrame({'Churn':Y_train, 'Churn_Prob':Y_pred_proba_train})\n",
    "sns.histplot(data=df_result,x = 'Churn_Prob',hue='Churn', bins=20, kde=True)"
   ]
  },
  {
   "attachments": {},
   "cell_type": "markdown",
   "metadata": {},
   "source": [
    "##### 4.2.3 Árvore de Decisão"
   ]
  },
  {
   "cell_type": "code",
   "execution_count": null,
   "metadata": {},
   "outputs": [],
   "source": [
    "# define os hiperparametros\n",
    "parametros = {\n",
    "    'criterion': ['gini', 'entropy', 'log_loss'],\n",
    "    'max_depth': [ 3,5,7,9],\n",
    "    'min_samples_leaf': [0.2,0.1,0.05]\n",
    "}\n",
    "\n",
    "\n",
    "# define o modelo\n",
    "modelo_ad = DecisionTreeClassifier()\n",
    "\n",
    "# define a estratégia de busca utilizando cross validation\n",
    "grid_ad = GridSearchCV(modelo_ad, parametros, cv=5, scoring='roc_auc', n_jobs=-1)\n",
    "\n",
    "# treina o modelo\n",
    "grid_ad.fit(X_train, Y_train)"
   ]
  },
  {
   "cell_type": "code",
   "execution_count": null,
   "metadata": {},
   "outputs": [],
   "source": [
    "# imprime os melhores parâmetros\n",
    "print(f'Os melhores parâmetros encontrados foram: {grid_ad.best_params_}')\n",
    "\n",
    "# coloca os resultados em um dataframe\n",
    "resultados = pd.DataFrame(grid_ad.cv_results_)\n",
    "resultados = resultados.sort_values('mean_test_score', ascending=False)\n",
    "resultados.head()"
   ]
  },
  {
   "cell_type": "code",
   "execution_count": null,
   "metadata": {},
   "outputs": [],
   "source": [
    "# treina o modelo com os melhores parâmetros\n",
    "modelo_ad = DecisionTreeClassifier(\n",
    "    criterion = grid_ad.best_params_['criterion'],\n",
    "    max_depth = grid_ad.best_params_['max_depth'],\n",
    "    min_samples_leaf = grid_ad.best_params_['min_samples_leaf']\n",
    ")\n",
    "\n",
    "# treina o modelo\n",
    "modelo_ad.fit(X_train, Y_train)\n",
    "\n",
    "# faz as previsões com dados de teste\n",
    "Y_pred = modelo_ad.predict(X_test)\n",
    "Y_pred_proba = modelo_ad.predict_proba(X_test)[:, 1]\n",
    "\n",
    "# faz as previsões com dados de treino\n",
    "Y_pred_train = modelo_ad.predict(X_train)\n",
    "Y_pred_proba_train = modelo_ad.predict_proba(X_train)[:, 1]"
   ]
  },
  {
   "cell_type": "code",
   "execution_count": null,
   "metadata": {},
   "outputs": [],
   "source": [
    "# imprime o classification report\n",
    "print(classification_report(Y_test, Y_pred))"
   ]
  },
  {
   "cell_type": "code",
   "execution_count": null,
   "metadata": {},
   "outputs": [],
   "source": [
    "# mostra a importância das variáveis\n",
    "importancia = pd.DataFrame({\"Variavel\": X_train.columns, \"Importancia\": modelo_rl.coef_[0]})\n",
    "importancia.sort_values(\"Importancia\", ascending=False).plot.bar(x=\"Variavel\", y=\"Importancia\")"
   ]
  },
  {
   "cell_type": "code",
   "execution_count": null,
   "metadata": {},
   "outputs": [],
   "source": [
    "# plota a matriz de confusão de teste\n",
    "plot_cm(Y_test, Y_pred, 'Árvore de Decisão - Teste')"
   ]
  },
  {
   "cell_type": "code",
   "execution_count": null,
   "metadata": {},
   "outputs": [],
   "source": [
    "# plota a matriz de confusão de teste\n",
    "plot_cm(Y_train, Y_pred_train, 'Árvore de Decisão - Treino')"
   ]
  },
  {
   "cell_type": "code",
   "execution_count": null,
   "metadata": {},
   "outputs": [],
   "source": [
    "# plota a curva ROC de teste\n",
    "plot_roc_curve(Y_test, Y_pred_proba, 'Árvore de Decisão - Teste')"
   ]
  },
  {
   "cell_type": "code",
   "execution_count": null,
   "metadata": {},
   "outputs": [],
   "source": [
    "# plota a curva ROC de teste\n",
    "plot_roc_curve(Y_train, Y_pred_proba_train, 'Árvore de Decisão - Treino')"
   ]
  },
  {
   "cell_type": "code",
   "execution_count": null,
   "metadata": {},
   "outputs": [],
   "source": [
    "# plota um histograma com as probabilidades de churn\n",
    "df_result = pd.DataFrame({'Churn':Y_test, 'Churn_Prob':Y_pred_proba})\n",
    "sns.histplot(data=df_result,x = 'Churn_Prob',hue='Churn', bins=20, kde=True)"
   ]
  },
  {
   "cell_type": "code",
   "execution_count": null,
   "metadata": {},
   "outputs": [],
   "source": [
    "# plota um histograma com as probabilidades de churn\n",
    "df_result = pd.DataFrame({'Churn':Y_train, 'Churn_Prob':Y_pred_proba_train})\n",
    "sns.histplot(data=df_result,x = 'Churn_Prob',hue='Churn', bins=20, kde=True)"
   ]
  }
 ],
 "metadata": {
  "kernelspec": {
   "display_name": "base",
   "language": "python",
   "name": "python3"
  },
  "language_info": {
   "codemirror_mode": {
    "name": "ipython",
    "version": 3
   },
   "file_extension": ".py",
   "mimetype": "text/x-python",
   "name": "python",
   "nbconvert_exporter": "python",
   "pygments_lexer": "ipython3",
   "version": "3.7.6"
  },
  "orig_nbformat": 4,
  "vscode": {
   "interpreter": {
    "hash": "daefdd352b271c3d14e155b13dd66aa6af60dc8f125bf3f5b458163bb8ef8801"
   }
  }
 },
 "nbformat": 4,
 "nbformat_minor": 2
}
